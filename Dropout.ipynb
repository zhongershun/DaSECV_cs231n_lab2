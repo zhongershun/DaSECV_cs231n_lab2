{
 "cells": [
  {
   "cell_type": "markdown",
   "metadata": {
    "tags": [
     "pdf-title"
    ]
   },
   "source": [
    "# Dropout\n",
    "Dropout [1] 是一种通过在正向传播中将一些输出随机设置为零，神经网络正则化的方法。在这个练习中，你将实现一个dropout层，并修改你的全连接网络使其可选择的使用dropout\n",
    "\n",
    "[1] [Geoffrey E. Hinton et al, \"Improving neural networks by preventing co-adaptation of feature detectors\", arXiv 2012](https://arxiv.org/abs/1207.0580)"
   ]
  },
  {
   "cell_type": "code",
   "execution_count": 1,
   "metadata": {
    "ExecuteTime": {
     "end_time": "2022-10-06T06:22:25.590631Z",
     "start_time": "2022-10-06T06:21:54.086932Z"
    },
    "tags": [
     "pdf-ignore"
    ]
   },
   "outputs": [
    {
     "name": "stdout",
     "output_type": "stream",
     "text": [
      "run the following from the daseCV directory and try again:\n",
      "python setup.py build_ext --inplace\n",
      "You may also need to restart your iPython kernel\n"
     ]
    }
   ],
   "source": [
    "# As usual, a bit of setup\n",
    "from __future__ import print_function\n",
    "import time\n",
    "import numpy as np\n",
    "import matplotlib.pyplot as plt\n",
    "from daseCV.classifiers.fc_net import *\n",
    "from daseCV.data_utils import get_CIFAR10_data\n",
    "from daseCV.gradient_check import eval_numerical_gradient, eval_numerical_gradient_array\n",
    "from daseCV.solver import Solver\n",
    "\n",
    "%matplotlib inline\n",
    "plt.rcParams['figure.figsize'] = (10.0, 8.0)  # set default size of plots\n",
    "plt.rcParams['image.interpolation'] = 'nearest'\n",
    "plt.rcParams['image.cmap'] = 'gray'\n",
    "\n",
    "# for auto-reloading external modules\n",
    "# see http://stackoverflow.com/questions/1907993/autoreload-of-modules-in-ipython\n",
    "%load_ext autoreload\n",
    "%autoreload 2\n",
    "\n",
    "\n",
    "def rel_error(x, y):\n",
    "    \"\"\" returns relative error \"\"\"\n",
    "    return np.max(np.abs(x - y) / (np.maximum(1e-8, np.abs(x) + np.abs(y))))\n"
   ]
  },
  {
   "cell_type": "code",
   "execution_count": 2,
   "metadata": {
    "ExecuteTime": {
     "end_time": "2022-10-06T06:22:45.534820Z",
     "start_time": "2022-10-06T06:22:33.084679Z"
    },
    "tags": [
     "pdf-ignore"
    ]
   },
   "outputs": [
    {
     "name": "stdout",
     "output_type": "stream",
     "text": [
      "X_train:  (49000, 3, 32, 32)\n",
      "y_train:  (49000,)\n",
      "X_val:  (1000, 3, 32, 32)\n",
      "y_val:  (1000,)\n",
      "X_test:  (1000, 3, 32, 32)\n",
      "y_test:  (1000,)\n"
     ]
    }
   ],
   "source": [
    "# Load the (preprocessed) CIFAR10 data.\n",
    "\n",
    "data = get_CIFAR10_data()\n",
    "for k, v in data.items():\n",
    "  print('%s: ' % k, v.shape)"
   ]
  },
  {
   "cell_type": "markdown",
   "metadata": {},
   "source": [
    "# Dropout 正向传播\n",
    "在文件 `daseCV/layers.py` 中完成dropout的正向传播过程。由于dropout在训练和测试期间的行为是不同的，因此请确保两种模式下都实现完成。\n",
    "\n",
    "完成此操作后，运行下面的cell以测试你的代码。"
   ]
  },
  {
   "cell_type": "code",
   "execution_count": 3,
   "metadata": {
    "ExecuteTime": {
     "end_time": "2022-10-06T06:23:30.761153Z",
     "start_time": "2022-10-06T06:23:30.515482Z"
    }
   },
   "outputs": [
    {
     "name": "stdout",
     "output_type": "stream",
     "text": [
      "Running tests with p =  0.25\n",
      "Mean of input:  10.000207878477502\n",
      "Mean of train-time output:  10.014059116977283\n",
      "Mean of test-time output:  10.000207878477502\n",
      "Fraction of train-time output set to zero:  0.749784\n",
      "Fraction of test-time output set to zero:  0.0\n",
      "\n",
      "Running tests with p =  0.4\n",
      "Mean of input:  10.000207878477502\n",
      "Mean of train-time output:  9.977917658761159\n",
      "Mean of test-time output:  10.000207878477502\n",
      "Fraction of train-time output set to zero:  0.600796\n",
      "Fraction of test-time output set to zero:  0.0\n",
      "\n",
      "Running tests with p =  0.7\n",
      "Mean of input:  10.000207878477502\n",
      "Mean of train-time output:  9.987811912159426\n",
      "Mean of test-time output:  10.000207878477502\n",
      "Fraction of train-time output set to zero:  0.30074\n",
      "Fraction of test-time output set to zero:  0.0\n",
      "\n"
     ]
    }
   ],
   "source": [
    "np.random.seed(231)\n",
    "x = np.random.randn(500, 500) + 10\n",
    "\n",
    "for p in [0.25, 0.4, 0.7]:\n",
    "  out, _ = dropout_forward(x, {'mode': 'train', 'p': p})\n",
    "  out_test, _ = dropout_forward(x, {'mode': 'test', 'p': p})\n",
    "\n",
    "  print('Running tests with p = ', p)\n",
    "  print('Mean of input: ', x.mean())\n",
    "  print('Mean of train-time output: ', out.mean())\n",
    "  print('Mean of test-time output: ', out_test.mean())\n",
    "  print('Fraction of train-time output set to zero: ', (out == 0).mean())\n",
    "  print('Fraction of test-time output set to zero: ', (out_test == 0).mean())\n",
    "  print()"
   ]
  },
  {
   "cell_type": "markdown",
   "metadata": {},
   "source": [
    "# Dropout 反向传播\n",
    "在文件 `daseCV/layers.py` 中完成dropout的反向传播。完成之后运行以下cell以对你的实现代码进行梯度检查。"
   ]
  },
  {
   "cell_type": "code",
   "execution_count": 4,
   "metadata": {
    "ExecuteTime": {
     "end_time": "2022-10-06T06:23:33.705801Z",
     "start_time": "2022-10-06T06:23:33.596744Z"
    }
   },
   "outputs": [
    {
     "name": "stdout",
     "output_type": "stream",
     "text": [
      "dx relative error:  5.44560814873387e-11\n"
     ]
    }
   ],
   "source": [
    "np.random.seed(231)\n",
    "x = np.random.randn(10, 10) + 10\n",
    "dout = np.random.randn(*x.shape)\n",
    "\n",
    "dropout_param = {'mode': 'train', 'p': 0.2, 'seed': 123}\n",
    "out, cache = dropout_forward(x, dropout_param)\n",
    "dx = dropout_backward(dout, cache)\n",
    "dx_num = eval_numerical_gradient_array(lambda xx: dropout_forward(xx, dropout_param)[0], x, dout)\n",
    "\n",
    "# Error should be around e-10 or less\n",
    "print('dx relative error: ', rel_error(dx, dx_num))"
   ]
  },
  {
   "cell_type": "markdown",
   "metadata": {
    "tags": [
     "pdf-inline"
    ]
   },
   "source": [
    "## 问题 1:\n",
    "在dropout层，如果不让inverse dropout技术过的数据除以p，会发生什么？为什么会这样呢？\n",
    "\n",
    "\n",
    "\n",
    "## 回答:\n",
    "[如果不除以p，那么在测试的过程中会发现输出分布与在训练时候的输出分布不一致。因为在训练的过程中有大约p的神经元通过了神经网络，但是测试的过程中所有的神经元都会会参与测试这样会使得训练的输出的分布于测试的分布不一致。所以，我们在训练的时候让输出值除以p，以实现与测试的输出的分布保持不变。]\n"
   ]
  },
  {
   "cell_type": "markdown",
   "metadata": {},
   "source": [
    "# 全连接网络的Dropout\n",
    "\n",
    "修改`daseCV/classifiers/fc_net.py`文件完成使用dropout的部分。具体来说，如果网络的构造函数收到的`dropout`参数值不为1，则应在每个ReLU之后添加一个dropout层。完成之后，运行以下命令以对你的代码进行梯度检查。"
   ]
  },
  {
   "cell_type": "code",
   "execution_count": 6,
   "metadata": {
    "ExecuteTime": {
     "end_time": "2022-10-06T06:23:38.485277Z",
     "start_time": "2022-10-06T06:23:36.543188Z"
    }
   },
   "outputs": [
    {
     "name": "stdout",
     "output_type": "stream",
     "text": [
      "Running check with dropout =  1\n",
      "Initial loss:  2.638793811090764\n",
      "W1 relative error: 1.57e-08\n",
      "W2 relative error: 4.68e-08\n",
      "W3 relative error: 1.45e-06\n",
      "b1 relative error: 3.94e-10\n",
      "b2 relative error: 1.23e-10\n",
      "b3 relative error: 3.68e-10\n",
      "\n",
      "Running check with dropout =  0.75\n",
      "Initial loss:  2.8497508661581943\n",
      "W1 relative error: 6.79e-08\n",
      "W2 relative error: 4.68e-08\n",
      "W3 relative error: 1.03e-06\n",
      "b1 relative error: 4.98e-10\n",
      "b2 relative error: 3.08e-10\n",
      "b3 relative error: 2.24e-10\n",
      "\n",
      "Running check with dropout =  0.5\n",
      "Initial loss:  1.605208179177997\n",
      "W1 relative error: 3.25e-09\n",
      "W2 relative error: 1.57e-09\n",
      "W3 relative error: 5.49e-08\n",
      "b1 relative error: 1.78e-10\n",
      "b2 relative error: 3.04e-10\n",
      "b3 relative error: 6.43e-11\n",
      "\n"
     ]
    }
   ],
   "source": [
    "np.random.seed(231)\n",
    "N, D, H1, H2, C = 2, 15, 20, 30, 10\n",
    "X = np.random.randn(N, D)\n",
    "y = np.random.randint(C, size=(N,))\n",
    "\n",
    "for dropout in [1, 0.75, 0.5]:\n",
    "  print('Running check with dropout = ', dropout)\n",
    "  model = FullyConnectedNet([H1, H2], input_dim=D, num_classes=C,\n",
    "                            weight_scale=5e-2, dtype=np.float64,\n",
    "                            dropout=dropout, seed=123)\n",
    "\n",
    "  loss, grads = model.loss(X, y)\n",
    "  print('Initial loss: ', loss)\n",
    "  \n",
    "  # Relative errors should be around e-6 or less; Note that it's fine\n",
    "  # if for dropout=1 you have W2 error be on the order of e-5.\n",
    "  for name in sorted(grads):\n",
    "    f = lambda _: model.loss(X, y)[0]\n",
    "    grad_num = eval_numerical_gradient(f, model.params[name], verbose=False, h=1e-5)\n",
    "    print('%s relative error: %.2e' % (name, rel_error(grad_num, grads[name])))\n",
    "  print()"
   ]
  },
  {
   "cell_type": "markdown",
   "metadata": {},
   "source": [
    "# 正则化实验\n",
    "作为实验，我们将在500个样本上训练一对双层网络：一个不使用dropout，另一个使用概率为0.25的dropout。之后，我们将可视化这两个网络训练和验证的准确度。"
   ]
  },
  {
   "cell_type": "code",
   "execution_count": 9,
   "metadata": {
    "ExecuteTime": {
     "end_time": "2022-10-06T06:24:31.193363Z",
     "start_time": "2022-10-06T06:23:47.172038Z"
    },
    "scrolled": false
   },
   "outputs": [
    {
     "name": "stdout",
     "output_type": "stream",
     "text": [
      "1\n",
      "(Iteration 1 / 125) loss: 760.665703\n",
      "(Epoch 0 / 25) train acc: 0.198000; val_acc: 0.157000\n",
      "(Epoch 1 / 25) train acc: 0.378000; val_acc: 0.238000\n",
      "(Epoch 2 / 25) train acc: 0.500000; val_acc: 0.293000\n",
      "(Epoch 3 / 25) train acc: 0.580000; val_acc: 0.245000\n",
      "(Epoch 4 / 25) train acc: 0.706000; val_acc: 0.294000\n",
      "(Epoch 5 / 25) train acc: 0.744000; val_acc: 0.281000\n",
      "(Epoch 6 / 25) train acc: 0.738000; val_acc: 0.278000\n",
      "(Epoch 7 / 25) train acc: 0.774000; val_acc: 0.270000\n",
      "(Epoch 8 / 25) train acc: 0.822000; val_acc: 0.256000\n",
      "(Epoch 9 / 25) train acc: 0.884000; val_acc: 0.273000\n",
      "(Epoch 10 / 25) train acc: 0.920000; val_acc: 0.269000\n",
      "(Epoch 11 / 25) train acc: 0.908000; val_acc: 0.274000\n",
      "(Epoch 12 / 25) train acc: 0.964000; val_acc: 0.284000\n",
      "(Epoch 13 / 25) train acc: 0.968000; val_acc: 0.301000\n",
      "(Epoch 14 / 25) train acc: 0.978000; val_acc: 0.303000\n",
      "(Epoch 15 / 25) train acc: 0.970000; val_acc: 0.291000\n",
      "(Epoch 16 / 25) train acc: 0.980000; val_acc: 0.284000\n",
      "(Epoch 17 / 25) train acc: 0.974000; val_acc: 0.285000\n",
      "(Epoch 18 / 25) train acc: 0.988000; val_acc: 0.306000\n",
      "(Epoch 19 / 25) train acc: 0.986000; val_acc: 0.306000\n",
      "(Epoch 20 / 25) train acc: 0.984000; val_acc: 0.310000\n",
      "(Iteration 101 / 125) loss: 0.000000\n",
      "(Epoch 21 / 25) train acc: 0.980000; val_acc: 0.312000\n",
      "(Epoch 22 / 25) train acc: 0.990000; val_acc: 0.307000\n",
      "(Epoch 23 / 25) train acc: 0.994000; val_acc: 0.302000\n",
      "(Epoch 24 / 25) train acc: 0.988000; val_acc: 0.286000\n",
      "(Epoch 25 / 25) train acc: 0.992000; val_acc: 0.292000\n",
      "\n",
      "0.75\n",
      "(Iteration 1 / 125) loss: 740.320469\n",
      "(Epoch 0 / 25) train acc: 0.238000; val_acc: 0.223000\n",
      "(Epoch 1 / 25) train acc: 0.320000; val_acc: 0.212000\n",
      "(Epoch 2 / 25) train acc: 0.518000; val_acc: 0.257000\n",
      "(Epoch 3 / 25) train acc: 0.586000; val_acc: 0.265000\n",
      "(Epoch 4 / 25) train acc: 0.630000; val_acc: 0.307000\n",
      "(Epoch 5 / 25) train acc: 0.684000; val_acc: 0.276000\n",
      "(Epoch 6 / 25) train acc: 0.772000; val_acc: 0.270000\n",
      "(Epoch 7 / 25) train acc: 0.802000; val_acc: 0.284000\n",
      "(Epoch 8 / 25) train acc: 0.824000; val_acc: 0.294000\n",
      "(Epoch 9 / 25) train acc: 0.896000; val_acc: 0.308000\n",
      "(Epoch 10 / 25) train acc: 0.884000; val_acc: 0.291000\n",
      "(Epoch 11 / 25) train acc: 0.908000; val_acc: 0.290000\n",
      "(Epoch 12 / 25) train acc: 0.940000; val_acc: 0.286000\n",
      "(Epoch 13 / 25) train acc: 0.928000; val_acc: 0.299000\n",
      "(Epoch 14 / 25) train acc: 0.972000; val_acc: 0.300000\n",
      "(Epoch 15 / 25) train acc: 0.964000; val_acc: 0.298000\n",
      "(Epoch 16 / 25) train acc: 0.972000; val_acc: 0.298000\n",
      "(Epoch 17 / 25) train acc: 0.984000; val_acc: 0.290000\n",
      "(Epoch 18 / 25) train acc: 0.968000; val_acc: 0.296000\n",
      "(Epoch 19 / 25) train acc: 0.980000; val_acc: 0.308000\n",
      "(Epoch 20 / 25) train acc: 0.990000; val_acc: 0.317000\n",
      "(Iteration 101 / 125) loss: 139.753645\n",
      "(Epoch 21 / 25) train acc: 0.992000; val_acc: 0.312000\n",
      "(Epoch 22 / 25) train acc: 0.996000; val_acc: 0.311000\n",
      "(Epoch 23 / 25) train acc: 0.990000; val_acc: 0.315000\n",
      "(Epoch 24 / 25) train acc: 0.992000; val_acc: 0.290000\n",
      "(Epoch 25 / 25) train acc: 0.994000; val_acc: 0.293000\n",
      "\n",
      "0.5\n",
      "(Iteration 1 / 125) loss: 1223.077969\n",
      "(Epoch 0 / 25) train acc: 0.170000; val_acc: 0.180000\n",
      "(Epoch 1 / 25) train acc: 0.340000; val_acc: 0.227000\n",
      "(Epoch 2 / 25) train acc: 0.474000; val_acc: 0.285000\n",
      "(Epoch 3 / 25) train acc: 0.546000; val_acc: 0.296000\n",
      "(Epoch 4 / 25) train acc: 0.602000; val_acc: 0.293000\n",
      "(Epoch 5 / 25) train acc: 0.650000; val_acc: 0.297000\n",
      "(Epoch 6 / 25) train acc: 0.728000; val_acc: 0.283000\n",
      "(Epoch 7 / 25) train acc: 0.800000; val_acc: 0.294000\n",
      "(Epoch 8 / 25) train acc: 0.798000; val_acc: 0.280000\n",
      "(Epoch 9 / 25) train acc: 0.838000; val_acc: 0.297000\n",
      "(Epoch 10 / 25) train acc: 0.830000; val_acc: 0.298000\n",
      "(Epoch 11 / 25) train acc: 0.906000; val_acc: 0.299000\n",
      "(Epoch 12 / 25) train acc: 0.870000; val_acc: 0.277000\n",
      "(Epoch 13 / 25) train acc: 0.914000; val_acc: 0.290000\n",
      "(Epoch 14 / 25) train acc: 0.900000; val_acc: 0.306000\n",
      "(Epoch 15 / 25) train acc: 0.940000; val_acc: 0.312000\n",
      "(Epoch 16 / 25) train acc: 0.954000; val_acc: 0.287000\n",
      "(Epoch 17 / 25) train acc: 0.964000; val_acc: 0.282000\n",
      "(Epoch 18 / 25) train acc: 0.974000; val_acc: 0.300000\n",
      "(Epoch 19 / 25) train acc: 0.972000; val_acc: 0.329000\n",
      "(Epoch 20 / 25) train acc: 0.966000; val_acc: 0.311000\n",
      "(Iteration 101 / 125) loss: 975.367762\n",
      "(Epoch 21 / 25) train acc: 0.968000; val_acc: 0.289000\n",
      "(Epoch 22 / 25) train acc: 0.986000; val_acc: 0.306000\n",
      "(Epoch 23 / 25) train acc: 0.982000; val_acc: 0.296000\n",
      "(Epoch 24 / 25) train acc: 0.974000; val_acc: 0.302000\n",
      "(Epoch 25 / 25) train acc: 0.988000; val_acc: 0.303000\n",
      "\n",
      "0.25\n",
      "(Iteration 1 / 125) loss: 1746.434844\n",
      "(Epoch 0 / 25) train acc: 0.234000; val_acc: 0.176000\n",
      "(Epoch 1 / 25) train acc: 0.338000; val_acc: 0.240000\n",
      "(Epoch 2 / 25) train acc: 0.440000; val_acc: 0.260000\n",
      "(Epoch 3 / 25) train acc: 0.462000; val_acc: 0.278000\n",
      "(Epoch 4 / 25) train acc: 0.542000; val_acc: 0.288000\n",
      "(Epoch 5 / 25) train acc: 0.594000; val_acc: 0.293000\n",
      "(Epoch 6 / 25) train acc: 0.622000; val_acc: 0.294000\n",
      "(Epoch 7 / 25) train acc: 0.644000; val_acc: 0.295000\n",
      "(Epoch 8 / 25) train acc: 0.684000; val_acc: 0.302000\n",
      "(Epoch 9 / 25) train acc: 0.716000; val_acc: 0.299000\n",
      "(Epoch 10 / 25) train acc: 0.746000; val_acc: 0.323000\n",
      "(Epoch 11 / 25) train acc: 0.798000; val_acc: 0.319000\n",
      "(Epoch 12 / 25) train acc: 0.798000; val_acc: 0.304000\n",
      "(Epoch 13 / 25) train acc: 0.832000; val_acc: 0.306000\n",
      "(Epoch 14 / 25) train acc: 0.854000; val_acc: 0.305000\n",
      "(Epoch 15 / 25) train acc: 0.874000; val_acc: 0.310000\n",
      "(Epoch 16 / 25) train acc: 0.872000; val_acc: 0.312000\n",
      "(Epoch 17 / 25) train acc: 0.866000; val_acc: 0.313000\n",
      "(Epoch 18 / 25) train acc: 0.898000; val_acc: 0.314000\n",
      "(Epoch 19 / 25) train acc: 0.894000; val_acc: 0.306000\n",
      "(Epoch 20 / 25) train acc: 0.894000; val_acc: 0.296000\n",
      "(Iteration 101 / 125) loss: 2733.990600\n",
      "(Epoch 21 / 25) train acc: 0.896000; val_acc: 0.303000\n",
      "(Epoch 22 / 25) train acc: 0.936000; val_acc: 0.311000\n",
      "(Epoch 23 / 25) train acc: 0.940000; val_acc: 0.315000\n",
      "(Epoch 24 / 25) train acc: 0.940000; val_acc: 0.314000\n",
      "(Epoch 25 / 25) train acc: 0.940000; val_acc: 0.293000\n",
      "\n"
     ]
    }
   ],
   "source": [
    "# Train two identical nets, one with dropout and one without\n",
    "np.random.seed(231)\n",
    "num_train = 500\n",
    "small_data = {\n",
    "  'X_train': data['X_train'][:num_train],\n",
    "  'y_train': data['y_train'][:num_train],\n",
    "  'X_val': data['X_val'],\n",
    "  'y_val': data['y_val'],\n",
    "}\n",
    "\n",
    "solvers = {}\n",
    "dropout_choices = [1, 0.75, 0.5, 0.25]\n",
    "for dropout in dropout_choices:\n",
    "    model = FullyConnectedNet([500], dropout=dropout)\n",
    "    print(dropout)\n",
    "\n",
    "    solver = Solver(model, small_data,\n",
    "                  num_epochs=25, batch_size=100,\n",
    "                  update_rule='adam',\n",
    "                  optim_config={\n",
    "                    'learning_rate': 5e-4,\n",
    "                  },\n",
    "                  verbose=True, print_every=100)\n",
    "    solver.train()\n",
    "    solvers[dropout] = solver\n",
    "    print()"
   ]
  },
  {
   "cell_type": "code",
   "execution_count": 10,
   "metadata": {
    "ExecuteTime": {
     "end_time": "2022-10-06T06:26:00.719887Z",
     "start_time": "2022-10-06T06:25:59.966880Z"
    }
   },
   "outputs": [
    {
     "data": {
      "image/png": "[encoded data removed]",
      "text/plain": [
       "<Figure size 1080x1080 with 2 Axes>"
      ]
     },
     "metadata": {
      "needs_background": "light"
     },
     "output_type": "display_data"
    }
   ],
   "source": [
    "# Plot train and validation accuracies of the two models\n",
    "\n",
    "train_accs = []\n",
    "val_accs = []\n",
    "for dropout in dropout_choices:\n",
    "  solver = solvers[dropout]\n",
    "  train_accs.append(solver.train_acc_history[-1])\n",
    "  val_accs.append(solver.val_acc_history[-1])\n",
    "\n",
    "plt.subplot(3, 1, 1)\n",
    "for dropout in dropout_choices:\n",
    "  plt.plot(solvers[dropout].train_acc_history, 'o', label='%.2f dropout' % dropout)\n",
    "plt.title('Train accuracy')\n",
    "plt.xlabel('Epoch')\n",
    "plt.ylabel('Accuracy')\n",
    "plt.legend(ncol=2, loc='lower right')\n",
    "  \n",
    "plt.subplot(3, 1, 2)\n",
    "for dropout in dropout_choices:\n",
    "  plt.plot(solvers[dropout].val_acc_history, 'o', label='%.2f dropout' % dropout)\n",
    "plt.title('Val accuracy')\n",
    "plt.xlabel('Epoch')\n",
    "plt.ylabel('Accuracy')\n",
    "plt.legend(ncol=2, loc='lower right')\n",
    "\n",
    "plt.gcf().set_size_inches(15, 15)\n",
    "plt.show()"
   ]
  },
  {
   "cell_type": "markdown",
   "metadata": {
    "tags": [
     "pdf-inline"
    ]
   },
   "source": [
    "## 问题 2:\n",
    "对比有无dropout的验证和训练的精度，你对使用dropout作为正则化有何建议？\n",
    "\n",
    "## 回答:\n",
    "[由上述结果可以看出，当利用droupout方法来优化神经网络后，在训练过程中可以看出准确率有稍微的下降，这是可以理解的，因为我们在训练的过程中使用的神经元减少了，但是这一过程却使得我们的模型拥有了更高的泛化能力。添加不同的p值后重复上述实验可以看出随着p值的减少，模型在训练集上的拟合程度越来越小，所以在利用dropout正则化的过程中我们需要注意p值的选择，不能太小使得模型很难拟合数据集]\n"
   ]
  },
  {
   "cell_type": "markdown",
   "metadata": {
    "tags": [
     "pdf-inline"
    ]
   },
   "source": [
    "## 问题三 3:\n",
    "假设我们正在训练一个深层的全连接网络用以进行图像分类，并隐层之后dropout（通过使用概率p进行参数化）。如果我们担心过度拟合而决定减小隐层的大小（即每层中的节点数）时，应该如何修改p（如果有的话）？\n",
    "\n",
    "## 回答:\n",
    "[如果减少了隐藏层的神经元的数目，一个比较好的建议是增大p，保留更多的神经元输出，提高模型的拟合能力]\n"
   ]
  },
  {
   "cell_type": "code",
   "execution_count": null,
   "metadata": {},
   "outputs": [],
   "source": []
  }
 ],
 "metadata": {
  "kernelspec": {
   "display_name": "Python 3",
   "language": "python",
   "name": "python3"
  },
  "language_info": {
   "codemirror_mode": {
    "name": "ipython",
    "version": 3
   },
   "file_extension": ".py",
   "mimetype": "text/x-python",
   "name": "python",
   "nbconvert_exporter": "python",
   "pygments_lexer": "ipython3",
   "version": "3.9.5"
  },
  "toc": {
   "base_numbering": 1,
   "nav_menu": {},
   "number_sections": true,
   "sideBar": true,
   "skip_h1_title": false,
   "title_cell": "Table of Contents",
   "title_sidebar": "Contents",
   "toc_cell": false,
   "toc_position": {},
   "toc_section_display": true,
   "toc_window_display": false
  },
  "varInspector": {
   "cols": {
    "lenName": 16,
    "lenType": 16,
    "lenVar": 40
   },
   "kernels_config": {
    "python": {
     "delete_cmd_postfix": "",
     "delete_cmd_prefix": "del ",
     "library": "var_list.py",
     "varRefreshCmd": "print(var_dic_list())"
    },
    "r": {
     "delete_cmd_postfix": ") ",
     "delete_cmd_prefix": "rm(",
     "library": "var_list.r",
     "varRefreshCmd": "cat(var_dic_list()) "
    }
   },
   "types_to_exclude": [
    "module",
    "function",
    "builtin_function_or_method",
    "instance",
    "_Feature"
   ],
   "window_display": false
  }
 },
 "nbformat": 4,
 "nbformat_minor": 2
}
